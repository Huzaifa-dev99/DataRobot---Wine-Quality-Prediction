{
 "cells": [
  {
   "cell_type": "code",
   "execution_count": 1,
   "id": "14912964",
   "metadata": {
    "collapsed": true
   },
   "outputs": [
    {
     "ename": "ModuleNotFoundError",
     "evalue": "No module named 'IPython.core.interacticeshell'",
     "output_type": "error",
     "traceback": [
      "\u001b[1;31m---------------------------------------------------------------------------\u001b[0m",
      "\u001b[1;31mModuleNotFoundError\u001b[0m                       Traceback (most recent call last)",
      "Cell \u001b[1;32mIn[1], line 1\u001b[0m\n\u001b[1;32m----> 1\u001b[0m \u001b[38;5;28;01mfrom\u001b[39;00m \u001b[38;5;21;01mIPython\u001b[39;00m\u001b[38;5;21;01m.\u001b[39;00m\u001b[38;5;21;01mcore\u001b[39;00m\u001b[38;5;21;01m.\u001b[39;00m\u001b[38;5;21;01minteracticeshell\u001b[39;00m \u001b[38;5;28;01mimport\u001b[39;00m InteractiveShell\n\u001b[0;32m      2\u001b[0m InteractiveShell\u001b[38;5;241m.\u001b[39mast_node_interactivity \u001b[38;5;241m=\u001b[39m \u001b[38;5;124m'\u001b[39m\u001b[38;5;124mall\u001b[39m\u001b[38;5;124m'\u001b[39m\n",
      "\u001b[1;31mModuleNotFoundError\u001b[0m: No module named 'IPython.core.interacticeshell'"
     ]
    }
   ],
   "source": [
    "from IPython.core.interacticeshell import InteractiveShell\n",
    "InteractiveShell.ast_node_interactivity = 'all'"
   ]
  },
  {
   "cell_type": "code",
   "execution_count": 2,
   "id": "80f910e6",
   "metadata": {},
   "outputs": [],
   "source": [
    "import datarobot as dr"
   ]
  },
  {
   "cell_type": "code",
   "execution_count": 3,
   "id": "59d00920",
   "metadata": {},
   "outputs": [
    {
     "data": {
      "text/plain": [
       "<datarobot.rest.RESTClientObject at 0x277423f26d0>"
      ]
     },
     "execution_count": 3,
     "metadata": {},
     "output_type": "execute_result"
    }
   ],
   "source": [
    "dr.Client(config_path = 'drconfig.yaml')"
   ]
  },
  {
   "cell_type": "code",
   "execution_count": 5,
   "id": "c12d72ab",
   "metadata": {},
   "outputs": [],
   "source": [
    "import pandas as pd"
   ]
  },
  {
   "cell_type": "code",
   "execution_count": 7,
   "id": "47794513",
   "metadata": {},
   "outputs": [
    {
     "data": {
      "text/html": [
       "<div>\n",
       "<style scoped>\n",
       "    .dataframe tbody tr th:only-of-type {\n",
       "        vertical-align: middle;\n",
       "    }\n",
       "\n",
       "    .dataframe tbody tr th {\n",
       "        vertical-align: top;\n",
       "    }\n",
       "\n",
       "    .dataframe thead th {\n",
       "        text-align: right;\n",
       "    }\n",
       "</style>\n",
       "<table border=\"1\" class=\"dataframe\">\n",
       "  <thead>\n",
       "    <tr style=\"text-align: right;\">\n",
       "      <th></th>\n",
       "      <th>fixed acidity</th>\n",
       "      <th>volatile acidity</th>\n",
       "      <th>citric acid</th>\n",
       "      <th>residual sugar</th>\n",
       "      <th>chlorides</th>\n",
       "      <th>free sulfur dioxide</th>\n",
       "      <th>total sulfur dioxide</th>\n",
       "      <th>density</th>\n",
       "      <th>pH</th>\n",
       "      <th>sulphates</th>\n",
       "      <th>alcohol</th>\n",
       "      <th>quality</th>\n",
       "    </tr>\n",
       "  </thead>\n",
       "  <tbody>\n",
       "    <tr>\n",
       "      <th>0</th>\n",
       "      <td>7.0</td>\n",
       "      <td>0.27</td>\n",
       "      <td>0.36</td>\n",
       "      <td>20.7</td>\n",
       "      <td>0.045</td>\n",
       "      <td>45.0</td>\n",
       "      <td>170.0</td>\n",
       "      <td>1.0010</td>\n",
       "      <td>3.00</td>\n",
       "      <td>0.45</td>\n",
       "      <td>8.8</td>\n",
       "      <td>6</td>\n",
       "    </tr>\n",
       "    <tr>\n",
       "      <th>1</th>\n",
       "      <td>6.3</td>\n",
       "      <td>0.30</td>\n",
       "      <td>0.34</td>\n",
       "      <td>1.6</td>\n",
       "      <td>0.049</td>\n",
       "      <td>14.0</td>\n",
       "      <td>132.0</td>\n",
       "      <td>0.9940</td>\n",
       "      <td>3.30</td>\n",
       "      <td>0.49</td>\n",
       "      <td>9.5</td>\n",
       "      <td>6</td>\n",
       "    </tr>\n",
       "    <tr>\n",
       "      <th>2</th>\n",
       "      <td>8.1</td>\n",
       "      <td>0.28</td>\n",
       "      <td>0.40</td>\n",
       "      <td>6.9</td>\n",
       "      <td>0.050</td>\n",
       "      <td>30.0</td>\n",
       "      <td>97.0</td>\n",
       "      <td>0.9951</td>\n",
       "      <td>3.26</td>\n",
       "      <td>0.44</td>\n",
       "      <td>10.1</td>\n",
       "      <td>6</td>\n",
       "    </tr>\n",
       "    <tr>\n",
       "      <th>3</th>\n",
       "      <td>7.2</td>\n",
       "      <td>0.23</td>\n",
       "      <td>0.32</td>\n",
       "      <td>8.5</td>\n",
       "      <td>0.058</td>\n",
       "      <td>47.0</td>\n",
       "      <td>186.0</td>\n",
       "      <td>0.9956</td>\n",
       "      <td>3.19</td>\n",
       "      <td>0.40</td>\n",
       "      <td>9.9</td>\n",
       "      <td>6</td>\n",
       "    </tr>\n",
       "    <tr>\n",
       "      <th>4</th>\n",
       "      <td>7.2</td>\n",
       "      <td>0.23</td>\n",
       "      <td>0.32</td>\n",
       "      <td>8.5</td>\n",
       "      <td>0.058</td>\n",
       "      <td>47.0</td>\n",
       "      <td>186.0</td>\n",
       "      <td>0.9956</td>\n",
       "      <td>3.19</td>\n",
       "      <td>0.40</td>\n",
       "      <td>9.9</td>\n",
       "      <td>6</td>\n",
       "    </tr>\n",
       "  </tbody>\n",
       "</table>\n",
       "</div>"
      ],
      "text/plain": [
       "   fixed acidity  volatile acidity  citric acid  residual sugar  chlorides  \\\n",
       "0            7.0              0.27         0.36            20.7      0.045   \n",
       "1            6.3              0.30         0.34             1.6      0.049   \n",
       "2            8.1              0.28         0.40             6.9      0.050   \n",
       "3            7.2              0.23         0.32             8.5      0.058   \n",
       "4            7.2              0.23         0.32             8.5      0.058   \n",
       "\n",
       "   free sulfur dioxide  total sulfur dioxide  density    pH  sulphates  \\\n",
       "0                 45.0                 170.0   1.0010  3.00       0.45   \n",
       "1                 14.0                 132.0   0.9940  3.30       0.49   \n",
       "2                 30.0                  97.0   0.9951  3.26       0.44   \n",
       "3                 47.0                 186.0   0.9956  3.19       0.40   \n",
       "4                 47.0                 186.0   0.9956  3.19       0.40   \n",
       "\n",
       "   alcohol  quality  \n",
       "0      8.8        6  \n",
       "1      9.5        6  \n",
       "2     10.1        6  \n",
       "3      9.9        6  \n",
       "4      9.9        6  "
      ]
     },
     "execution_count": 7,
     "metadata": {},
     "output_type": "execute_result"
    }
   ],
   "source": [
    "trainingData = pd.read_csv('./winequality-white-training.csv')\n",
    "trainingData.head()"
   ]
  },
  {
   "cell_type": "code",
   "execution_count": 11,
   "id": "3b322836",
   "metadata": {
    "scrolled": true
   },
   "outputs": [
    {
     "name": "stdout",
     "output_type": "stream",
     "text": [
      "Pyhton Wine Quality 07-13-2023\n"
     ]
    }
   ],
   "source": [
    "from datetime import date\n",
    "projectName = 'Pyhton Wine Quality '+ date.today().strftime(format = '%m-%d-%Y')\n",
    "print(projectName)"
   ]
  },
  {
   "cell_type": "code",
   "execution_count": 14,
   "id": "aac933e8",
   "metadata": {},
   "outputs": [
    {
     "name": "stdout",
     "output_type": "stream",
     "text": [
      "64af92710719c2ee6f0d815c Pyhton Wine Quality 07-13-2023\n"
     ]
    }
   ],
   "source": [
    "project = dr.Project.create (\n",
    "    sourcedata = trainingData,\n",
    "    project_name = projectName\n",
    ")\n",
    "\n",
    "print(project.id,project.project_name)"
   ]
  },
  {
   "cell_type": "code",
   "execution_count": 15,
   "id": "cdc57250",
   "metadata": {},
   "outputs": [
    {
     "data": {
      "text/plain": [
       "[Feature(alcohol),\n",
       " Feature(chlorides),\n",
       " Feature(citric acid),\n",
       " Feature(density),\n",
       " Feature(fixed acidity),\n",
       " Feature(free sulfur dioxide),\n",
       " Feature(pH),\n",
       " Feature(quality),\n",
       " Feature(residual sugar),\n",
       " Feature(sulphates),\n",
       " Feature(total sulfur dioxide),\n",
       " Feature(volatile acidity)]"
      ]
     },
     "execution_count": 15,
     "metadata": {},
     "output_type": "execute_result"
    }
   ],
   "source": [
    "project.get_features()"
   ]
  },
  {
   "cell_type": "code",
   "execution_count": 18,
   "id": "8a40591e",
   "metadata": {
    "collapsed": true
   },
   "outputs": [
    {
     "name": "stderr",
     "output_type": "stream",
     "text": [
      "C:\\Users\\huzai\\AppData\\Local\\Temp\\ipykernel_6652\\3688222327.py:1: DataRobotDeprecationWarning: `set_target` has been deprecated in `v3.0`, will be removed in `v4.0`. This method, 'set_target' is deprecated. Please use 'analyze_and_model' instead.\n",
      "  project.set_target(target = 'quality')\n"
     ]
    },
    {
     "ename": "ClientError",
     "evalue": "422 client error: {'message': 'Target quality was already selected.'}",
     "output_type": "error",
     "traceback": [
      "\u001b[1;31m---------------------------------------------------------------------------\u001b[0m",
      "\u001b[1;31mClientError\u001b[0m                               Traceback (most recent call last)",
      "Cell \u001b[1;32mIn[18], line 1\u001b[0m\n\u001b[1;32m----> 1\u001b[0m \u001b[43mproject\u001b[49m\u001b[38;5;241;43m.\u001b[39;49m\u001b[43mset_target\u001b[49m\u001b[43m(\u001b[49m\u001b[43mtarget\u001b[49m\u001b[43m \u001b[49m\u001b[38;5;241;43m=\u001b[39;49m\u001b[43m \u001b[49m\u001b[38;5;124;43m'\u001b[39;49m\u001b[38;5;124;43mquality\u001b[39;49m\u001b[38;5;124;43m'\u001b[39;49m\u001b[43m)\u001b[49m\n",
      "File \u001b[1;32m~\\anaconda3\\lib\\site-packages\\datarobot\\utils\\deprecation.py:90\u001b[0m, in \u001b[0;36mdeprecated.<locals>.wrapper.<locals>.inner\u001b[1;34m(*args, **kwargs)\u001b[0m\n\u001b[0;32m     85\u001b[0m \u001b[38;5;129m@functools\u001b[39m\u001b[38;5;241m.\u001b[39mwraps(func)\n\u001b[0;32m     86\u001b[0m \u001b[38;5;28;01mdef\u001b[39;00m \u001b[38;5;21minner\u001b[39m(\u001b[38;5;241m*\u001b[39margs: Any, \u001b[38;5;241m*\u001b[39m\u001b[38;5;241m*\u001b[39mkwargs: Any) \u001b[38;5;241m-\u001b[39m\u001b[38;5;241m>\u001b[39m Any:\n\u001b[0;32m     87\u001b[0m     deprecation_warning(\n\u001b[0;32m     88\u001b[0m         func\u001b[38;5;241m.\u001b[39m\u001b[38;5;18m__name__\u001b[39m, deprecated_since_version, will_remove_version, message\n\u001b[0;32m     89\u001b[0m     )\n\u001b[1;32m---> 90\u001b[0m     \u001b[38;5;28;01mreturn\u001b[39;00m func(\u001b[38;5;241m*\u001b[39margs, \u001b[38;5;241m*\u001b[39m\u001b[38;5;241m*\u001b[39mkwargs)\n",
      "File \u001b[1;32m~\\anaconda3\\lib\\site-packages\\datarobot\\models\\project.py:1723\u001b[0m, in \u001b[0;36mProject.set_target\u001b[1;34m(self, target, mode, metric, worker_count, positive_class, partitioning_method, featurelist_id, advanced_options, max_wait, target_type, credentials, feature_engineering_prediction_point, unsupervised_mode, relationships_configuration_id, class_mapping_aggregation_settings, segmentation_task_id, unsupervised_type, autopilot_cluster_list)\u001b[0m\n\u001b[0;32m   1587\u001b[0m \u001b[38;5;129m@deprecated\u001b[39m(\n\u001b[0;32m   1588\u001b[0m     deprecated_since_version\u001b[38;5;241m=\u001b[39m\u001b[38;5;124m\"\u001b[39m\u001b[38;5;124mv3.0\u001b[39m\u001b[38;5;124m\"\u001b[39m,\n\u001b[0;32m   1589\u001b[0m     will_remove_version\u001b[38;5;241m=\u001b[39m\u001b[38;5;124m\"\u001b[39m\u001b[38;5;124mv4.0\u001b[39m\u001b[38;5;124m\"\u001b[39m,\n\u001b[1;32m   (...)\u001b[0m\n\u001b[0;32m   1611\u001b[0m     autopilot_cluster_list\u001b[38;5;241m=\u001b[39m\u001b[38;5;28;01mNone\u001b[39;00m,\n\u001b[0;32m   1612\u001b[0m ):\n\u001b[0;32m   1613\u001b[0m     \u001b[38;5;124;03m\"\"\"\u001b[39;00m\n\u001b[0;32m   1614\u001b[0m \u001b[38;5;124;03m    Set target variable of an existing project and begin the Autopilot process (unless manual\u001b[39;00m\n\u001b[0;32m   1615\u001b[0m \u001b[38;5;124;03m    mode is specified).\u001b[39;00m\n\u001b[1;32m   (...)\u001b[0m\n\u001b[0;32m   1721\u001b[0m \u001b[38;5;124;03m    datarobot.models.Project.analyze_and_model : the method replacing ``set_target`` after it is removed.\u001b[39;00m\n\u001b[0;32m   1722\u001b[0m \u001b[38;5;124;03m    \"\"\"\u001b[39;00m\n\u001b[1;32m-> 1723\u001b[0m     \u001b[38;5;28;01mreturn\u001b[39;00m \u001b[38;5;28;43mself\u001b[39;49m\u001b[38;5;241;43m.\u001b[39;49m\u001b[43manalyze_and_model\u001b[49m\u001b[43m(\u001b[49m\n\u001b[0;32m   1724\u001b[0m \u001b[43m        \u001b[49m\u001b[43mtarget\u001b[49m\u001b[38;5;241;43m=\u001b[39;49m\u001b[43mtarget\u001b[49m\u001b[43m,\u001b[49m\n\u001b[0;32m   1725\u001b[0m \u001b[43m        \u001b[49m\u001b[43mmode\u001b[49m\u001b[38;5;241;43m=\u001b[39;49m\u001b[43mmode\u001b[49m\u001b[43m,\u001b[49m\n\u001b[0;32m   1726\u001b[0m \u001b[43m        \u001b[49m\u001b[43mmetric\u001b[49m\u001b[38;5;241;43m=\u001b[39;49m\u001b[43mmetric\u001b[49m\u001b[43m,\u001b[49m\n\u001b[0;32m   1727\u001b[0m \u001b[43m        \u001b[49m\u001b[43mworker_count\u001b[49m\u001b[38;5;241;43m=\u001b[39;49m\u001b[43mworker_count\u001b[49m\u001b[43m,\u001b[49m\n\u001b[0;32m   1728\u001b[0m \u001b[43m        \u001b[49m\u001b[43mpositive_class\u001b[49m\u001b[38;5;241;43m=\u001b[39;49m\u001b[43mpositive_class\u001b[49m\u001b[43m,\u001b[49m\n\u001b[0;32m   1729\u001b[0m \u001b[43m        \u001b[49m\u001b[43mpartitioning_method\u001b[49m\u001b[38;5;241;43m=\u001b[39;49m\u001b[43mpartitioning_method\u001b[49m\u001b[43m,\u001b[49m\n\u001b[0;32m   1730\u001b[0m \u001b[43m        \u001b[49m\u001b[43mfeaturelist_id\u001b[49m\u001b[38;5;241;43m=\u001b[39;49m\u001b[43mfeaturelist_id\u001b[49m\u001b[43m,\u001b[49m\n\u001b[0;32m   1731\u001b[0m \u001b[43m        \u001b[49m\u001b[43madvanced_options\u001b[49m\u001b[38;5;241;43m=\u001b[39;49m\u001b[43madvanced_options\u001b[49m\u001b[43m,\u001b[49m\n\u001b[0;32m   1732\u001b[0m \u001b[43m        \u001b[49m\u001b[43mmax_wait\u001b[49m\u001b[38;5;241;43m=\u001b[39;49m\u001b[43mmax_wait\u001b[49m\u001b[43m,\u001b[49m\n\u001b[0;32m   1733\u001b[0m \u001b[43m        \u001b[49m\u001b[43mtarget_type\u001b[49m\u001b[38;5;241;43m=\u001b[39;49m\u001b[43mtarget_type\u001b[49m\u001b[43m,\u001b[49m\n\u001b[0;32m   1734\u001b[0m \u001b[43m        \u001b[49m\u001b[43mcredentials\u001b[49m\u001b[38;5;241;43m=\u001b[39;49m\u001b[43mcredentials\u001b[49m\u001b[43m,\u001b[49m\n\u001b[0;32m   1735\u001b[0m \u001b[43m        \u001b[49m\u001b[43mfeature_engineering_prediction_point\u001b[49m\u001b[38;5;241;43m=\u001b[39;49m\u001b[43mfeature_engineering_prediction_point\u001b[49m\u001b[43m,\u001b[49m\n\u001b[0;32m   1736\u001b[0m \u001b[43m        \u001b[49m\u001b[43munsupervised_mode\u001b[49m\u001b[38;5;241;43m=\u001b[39;49m\u001b[43munsupervised_mode\u001b[49m\u001b[43m,\u001b[49m\n\u001b[0;32m   1737\u001b[0m \u001b[43m        \u001b[49m\u001b[43mrelationships_configuration_id\u001b[49m\u001b[38;5;241;43m=\u001b[39;49m\u001b[43mrelationships_configuration_id\u001b[49m\u001b[43m,\u001b[49m\n\u001b[0;32m   1738\u001b[0m \u001b[43m        \u001b[49m\u001b[43mclass_mapping_aggregation_settings\u001b[49m\u001b[38;5;241;43m=\u001b[39;49m\u001b[43mclass_mapping_aggregation_settings\u001b[49m\u001b[43m,\u001b[49m\n\u001b[0;32m   1739\u001b[0m \u001b[43m        \u001b[49m\u001b[43msegmentation_task_id\u001b[49m\u001b[38;5;241;43m=\u001b[39;49m\u001b[43msegmentation_task_id\u001b[49m\u001b[43m,\u001b[49m\n\u001b[0;32m   1740\u001b[0m \u001b[43m        \u001b[49m\u001b[43munsupervised_type\u001b[49m\u001b[38;5;241;43m=\u001b[39;49m\u001b[43munsupervised_type\u001b[49m\u001b[43m,\u001b[49m\n\u001b[0;32m   1741\u001b[0m \u001b[43m        \u001b[49m\u001b[43mautopilot_cluster_list\u001b[49m\u001b[38;5;241;43m=\u001b[39;49m\u001b[43mautopilot_cluster_list\u001b[49m\u001b[43m,\u001b[49m\n\u001b[0;32m   1742\u001b[0m \u001b[43m    \u001b[49m\u001b[43m)\u001b[49m\n",
      "File \u001b[1;32m~\\anaconda3\\lib\\site-packages\\datarobot\\models\\project.py:1578\u001b[0m, in \u001b[0;36mProject.analyze_and_model\u001b[1;34m(self, target, mode, metric, worker_count, positive_class, partitioning_method, featurelist_id, advanced_options, max_wait, target_type, credentials, feature_engineering_prediction_point, unsupervised_mode, relationships_configuration_id, class_mapping_aggregation_settings, segmentation_task_id, unsupervised_type, autopilot_cluster_list)\u001b[0m\n\u001b[0;32m   1573\u001b[0m         \u001b[38;5;28;01mraise\u001b[39;00m \u001b[38;5;167;01mValueError\u001b[39;00m(\n\u001b[0;32m   1574\u001b[0m             \u001b[38;5;124m\"\u001b[39m\u001b[38;5;124msegmentation_task_id must be either a string id or a SegmentationTask object\u001b[39m\u001b[38;5;124m\"\u001b[39m\n\u001b[0;32m   1575\u001b[0m         )\n\u001b[0;32m   1577\u001b[0m url \u001b[38;5;241m=\u001b[39m \u001b[38;5;124mf\u001b[39m\u001b[38;5;124m\"\u001b[39m\u001b[38;5;132;01m{\u001b[39;00m\u001b[38;5;28mself\u001b[39m\u001b[38;5;241m.\u001b[39m_path\u001b[38;5;132;01m}\u001b[39;00m\u001b[38;5;132;01m{\u001b[39;00m\u001b[38;5;28mself\u001b[39m\u001b[38;5;241m.\u001b[39mid\u001b[38;5;132;01m}\u001b[39;00m\u001b[38;5;124m/aim/\u001b[39m\u001b[38;5;124m\"\u001b[39m\n\u001b[1;32m-> 1578\u001b[0m response \u001b[38;5;241m=\u001b[39m \u001b[38;5;28;43mself\u001b[39;49m\u001b[38;5;241;43m.\u001b[39;49m\u001b[43m_client\u001b[49m\u001b[38;5;241;43m.\u001b[39;49m\u001b[43mpatch\u001b[49m\u001b[43m(\u001b[49m\u001b[43murl\u001b[49m\u001b[43m,\u001b[49m\u001b[43m \u001b[49m\u001b[43mdata\u001b[49m\u001b[38;5;241;43m=\u001b[39;49m\u001b[43maim_payload\u001b[49m\u001b[43m)\u001b[49m\n\u001b[0;32m   1579\u001b[0m async_location \u001b[38;5;241m=\u001b[39m response\u001b[38;5;241m.\u001b[39mheaders[\u001b[38;5;124m\"\u001b[39m\u001b[38;5;124mLocation\u001b[39m\u001b[38;5;124m\"\u001b[39m]\n\u001b[0;32m   1581\u001b[0m \u001b[38;5;66;03m# Waits for project to be ready for modeling, but ignores the return value\u001b[39;00m\n",
      "File \u001b[1;32m~\\anaconda3\\lib\\site-packages\\datarobot\\rest.py:214\u001b[0m, in \u001b[0;36mRESTClientObject.patch\u001b[1;34m(self, url, data, keep_attrs, **kwargs)\u001b[0m\n\u001b[0;32m    212\u001b[0m \u001b[38;5;28;01mif\u001b[39;00m data:\n\u001b[0;32m    213\u001b[0m     kwargs[\u001b[38;5;124m\"\u001b[39m\u001b[38;5;124mjson\u001b[39m\u001b[38;5;124m\"\u001b[39m] \u001b[38;5;241m=\u001b[39m to_api(data, keep_attrs\u001b[38;5;241m=\u001b[39mkeep_attrs)\n\u001b[1;32m--> 214\u001b[0m \u001b[38;5;28;01mreturn\u001b[39;00m \u001b[38;5;28mself\u001b[39m\u001b[38;5;241m.\u001b[39mrequest(\u001b[38;5;124m\"\u001b[39m\u001b[38;5;124mpatch\u001b[39m\u001b[38;5;124m\"\u001b[39m, url, \u001b[38;5;241m*\u001b[39m\u001b[38;5;241m*\u001b[39mkwargs)\n",
      "File \u001b[1;32m~\\anaconda3\\lib\\site-packages\\datarobot\\rest.py:187\u001b[0m, in \u001b[0;36mRESTClientObject.request\u001b[1;34m(self, method, url, join_endpoint, **kwargs)\u001b[0m\n\u001b[0;32m    185\u001b[0m handle_deprecation_header(response, \u001b[38;5;241m*\u001b[39m\u001b[38;5;241m*\u001b[39mkwargs)\n\u001b[0;32m    186\u001b[0m \u001b[38;5;28;01mif\u001b[39;00m \u001b[38;5;129;01mnot\u001b[39;00m response:\n\u001b[1;32m--> 187\u001b[0m     handle_http_error(response, \u001b[38;5;241m*\u001b[39m\u001b[38;5;241m*\u001b[39mkwargs)\n\u001b[0;32m    188\u001b[0m \u001b[38;5;28;01mreturn\u001b[39;00m response\n",
      "File \u001b[1;32m~\\anaconda3\\lib\\site-packages\\datarobot\\rest.py:365\u001b[0m, in \u001b[0;36mhandle_http_error\u001b[1;34m(response, **kwargs)\u001b[0m\n\u001b[0;32m    363\u001b[0m     template \u001b[38;5;241m=\u001b[39m \u001b[38;5;124m\"\u001b[39m\u001b[38;5;132;01m{}\u001b[39;00m\u001b[38;5;124m client error: \u001b[39m\u001b[38;5;132;01m{}\u001b[39;00m\u001b[38;5;124m\"\u001b[39m\n\u001b[0;32m    364\u001b[0m     exc_message \u001b[38;5;241m=\u001b[39m template\u001b[38;5;241m.\u001b[39mformat(response\u001b[38;5;241m.\u001b[39mstatus_code, message)\n\u001b[1;32m--> 365\u001b[0m     \u001b[38;5;28;01mraise\u001b[39;00m exception_type(exc_message, response\u001b[38;5;241m.\u001b[39mstatus_code, json\u001b[38;5;241m=\u001b[39mparsed_json)\n\u001b[0;32m    366\u001b[0m \u001b[38;5;28;01melse\u001b[39;00m:\n\u001b[0;32m    367\u001b[0m     template \u001b[38;5;241m=\u001b[39m \u001b[38;5;124m\"\u001b[39m\u001b[38;5;132;01m{}\u001b[39;00m\u001b[38;5;124m server error: \u001b[39m\u001b[38;5;132;01m{}\u001b[39;00m\u001b[38;5;124m\"\u001b[39m\n",
      "\u001b[1;31mClientError\u001b[0m: 422 client error: {'message': 'Target quality was already selected.'}"
     ]
    }
   ],
   "source": [
    "project.set_target(target = 'quality')"
   ]
  },
  {
   "cell_type": "code",
   "execution_count": 19,
   "id": "34d56e41",
   "metadata": {
    "collapsed": true
   },
   "outputs": [
    {
     "name": "stdout",
     "output_type": "stream",
     "text": [
      "In progress: 4, queued: 10 (waited: 0s)\n",
      "In progress: 4, queued: 10 (waited: 1s)\n",
      "In progress: 3, queued: 10 (waited: 3s)\n",
      "In progress: 3, queued: 10 (waited: 4s)\n",
      "In progress: 3, queued: 10 (waited: 7s)\n",
      "In progress: 3, queued: 10 (waited: 10s)\n",
      "In progress: 3, queued: 10 (waited: 14s)\n",
      "In progress: 3, queued: 9 (waited: 22s)\n",
      "In progress: 4, queued: 8 (waited: 36s)\n",
      "In progress: 3, queued: 7 (waited: 58s)\n",
      "In progress: 3, queued: 6 (waited: 79s)\n",
      "In progress: 4, queued: 4 (waited: 100s)\n",
      "In progress: 3, queued: 2 (waited: 121s)\n",
      "In progress: 4, queued: 0 (waited: 143s)\n",
      "In progress: 2, queued: 0 (waited: 164s)\n",
      "In progress: 1, queued: 0 (waited: 185s)\n",
      "In progress: 0, queued: 0 (waited: 206s)\n",
      "In progress: 0, queued: 0 (waited: 228s)\n",
      "In progress: 0, queued: 0 (waited: 249s)\n"
     ]
    },
    {
     "ename": "KeyboardInterrupt",
     "evalue": "",
     "output_type": "error",
     "traceback": [
      "\u001b[1;31m---------------------------------------------------------------------------\u001b[0m",
      "\u001b[1;31mKeyboardInterrupt\u001b[0m                         Traceback (most recent call last)",
      "Cell \u001b[1;32mIn[19], line 1\u001b[0m\n\u001b[1;32m----> 1\u001b[0m \u001b[43mproject\u001b[49m\u001b[38;5;241;43m.\u001b[39;49m\u001b[43mwait_for_autopilot\u001b[49m\u001b[43m(\u001b[49m\u001b[43m)\u001b[49m\n",
      "File \u001b[1;32m~\\anaconda3\\lib\\site-packages\\datarobot\\models\\project.py:3724\u001b[0m, in \u001b[0;36mProject.wait_for_autopilot\u001b[1;34m(self, check_interval, timeout, verbosity)\u001b[0m\n\u001b[0;32m   3691\u001b[0m \u001b[38;5;28;01mdef\u001b[39;00m \u001b[38;5;21mwait_for_autopilot\u001b[39m(\n\u001b[0;32m   3692\u001b[0m     \u001b[38;5;28mself\u001b[39m,\n\u001b[0;32m   3693\u001b[0m     check_interval: Union[\u001b[38;5;28mfloat\u001b[39m, \u001b[38;5;28mint\u001b[39m] \u001b[38;5;241m=\u001b[39m \u001b[38;5;241m20.0\u001b[39m,\n\u001b[0;32m   3694\u001b[0m     timeout: Optional[Union[\u001b[38;5;28mfloat\u001b[39m, \u001b[38;5;28mint\u001b[39m]] \u001b[38;5;241m=\u001b[39m \u001b[38;5;241m24\u001b[39m \u001b[38;5;241m*\u001b[39m \u001b[38;5;241m60\u001b[39m \u001b[38;5;241m*\u001b[39m \u001b[38;5;241m60\u001b[39m,\n\u001b[0;32m   3695\u001b[0m     verbosity: Union[\u001b[38;5;28mint\u001b[39m, VERBOSITY_LEVEL] \u001b[38;5;241m=\u001b[39m \u001b[38;5;241m1\u001b[39m,\n\u001b[0;32m   3696\u001b[0m ) \u001b[38;5;241m-\u001b[39m\u001b[38;5;241m>\u001b[39m \u001b[38;5;28;01mNone\u001b[39;00m:\n\u001b[0;32m   3697\u001b[0m     \u001b[38;5;124;03m\"\"\"\u001b[39;00m\n\u001b[0;32m   3698\u001b[0m \u001b[38;5;124;03m    Blocks until autopilot is finished. This will raise an exception if the autopilot\u001b[39;00m\n\u001b[0;32m   3699\u001b[0m \u001b[38;5;124;03m    mode is changed from AUTOPILOT_MODE.FULL_AUTO.\u001b[39;00m\n\u001b[1;32m   (...)\u001b[0m\n\u001b[0;32m   3722\u001b[0m \u001b[38;5;124;03m        on its own\u001b[39;00m\n\u001b[0;32m   3723\u001b[0m \u001b[38;5;124;03m    \"\"\"\u001b[39;00m\n\u001b[1;32m-> 3724\u001b[0m     \u001b[38;5;28;01mfor\u001b[39;00m _, seconds_waited \u001b[38;5;129;01min\u001b[39;00m retry\u001b[38;5;241m.\u001b[39mwait(timeout, maxdelay\u001b[38;5;241m=\u001b[39mcheck_interval):\n\u001b[0;32m   3725\u001b[0m         \u001b[38;5;28;01mif\u001b[39;00m verbosity \u001b[38;5;241m>\u001b[39m VERBOSITY_LEVEL\u001b[38;5;241m.\u001b[39mSILENT:\n\u001b[0;32m   3726\u001b[0m             num_inprogress, num_queued \u001b[38;5;241m=\u001b[39m \u001b[38;5;28mself\u001b[39m\u001b[38;5;241m.\u001b[39m_get_job_status_counts()\n",
      "File \u001b[1;32m~\\anaconda3\\lib\\site-packages\\datarobot\\utils\\retry.py:57\u001b[0m, in \u001b[0;36mwait\u001b[1;34m(timeout, delay, maxdelay)\u001b[0m\n\u001b[0;32m     55\u001b[0m     \u001b[38;5;28;01mbreak\u001b[39;00m\n\u001b[0;32m     56\u001b[0m delay \u001b[38;5;241m=\u001b[39m \u001b[38;5;28mmin\u001b[39m(delay \u001b[38;5;241m*\u001b[39m \u001b[38;5;241m2\u001b[39m, maxdelay, remaining)\n\u001b[1;32m---> 57\u001b[0m \u001b[43mtime\u001b[49m\u001b[38;5;241;43m.\u001b[39;49m\u001b[43msleep\u001b[49m\u001b[43m(\u001b[49m\u001b[43mdelay\u001b[49m\u001b[43m)\u001b[49m\n",
      "\u001b[1;31mKeyboardInterrupt\u001b[0m: "
     ]
    }
   ],
   "source": [
    "project.wait_for_autopilot()"
   ]
  },
  {
   "cell_type": "markdown",
   "id": "426af198",
   "metadata": {},
   "source": [
    "# Viewing the Model"
   ]
  },
  {
   "cell_type": "code",
   "execution_count": 4,
   "id": "4fc2e354",
   "metadata": {
    "scrolled": true
   },
   "outputs": [
    {
     "name": "stdout",
     "output_type": "stream",
     "text": [
      "64b77fbf94f1351b5332d3c6 LLR655 2022.csv\n",
      "64b765d1231a4cdacc32d310 LLR655 sept-dec 2022.csv\n",
      "64b6a5b2d2d6d87ae6f7cc73 sept2022.csv\n",
      "64b3c1b36873af5a68da1835 aug_train.csv\n",
      "64af9b081ab5359d6eddae3e Pyhton Wine Quality 07-13-2023\n",
      "64af92710719c2ee6f0d815c Pyhton Wine Quality 07-13-2023\n",
      "64af92333d27e33c3b0d83dd Pyhton Wine Quality 07-13-2023\n",
      "64a379be00ad460c05854ffc StackOverflow_Advanced.csv\n",
      "64a36ebb3f50357469b7c9be StackOverflow.csv\n",
      "64a35ea39a6b1dc86985506d DR_Demo_LendingClub_Guardrails.csv\n",
      "64a2ec92d31b8eb7ee854fc9 diabetes.csv\n"
     ]
    }
   ],
   "source": [
    "for p in dr.Project.list():\n",
    "    print(p.id, p.project_name)"
   ]
  },
  {
   "cell_type": "code",
   "execution_count": 7,
   "id": "d988a03a",
   "metadata": {
    "scrolled": true
   },
   "outputs": [
    {
     "name": "stdout",
     "output_type": "stream",
     "text": [
      "Project(Pyhton Wine Quality 07-13-2023)\n"
     ]
    }
   ],
   "source": [
    "projectId = '64af92710719c2ee6f0d815c'\n",
    "project = dr.Project.get(projectId)\n",
    "print(project)"
   ]
  },
  {
   "cell_type": "code",
   "execution_count": 8,
   "id": "9e3d61d2",
   "metadata": {},
   "outputs": [
    {
     "name": "stdout",
     "output_type": "stream",
     "text": [
      "64af95280836eb930a03fe07 RandomForest Regressor\n",
      "64af9306fe57f0cf4f00dd3e RandomForest Regressor\n",
      "64af9306fe57f0cf4f00dd3c Light Gradient Boosted Trees Regressor with Early Stopping\n",
      "64af9306fe57f0cf4f00dd40 eXtreme Gradient Boosted Trees Regressor\n",
      "64af9306fe57f0cf4f00dd3d Light Gradient Boosting on ElasticNet Predictions \n",
      "64af9306fe57f0cf4f00dd3f RuleFit Regressor\n",
      "64af9306fe57f0cf4f00dd3b Generalized Additive2 Model\n",
      "64af9306fe57f0cf4f00dd39 Ridge Regressor\n",
      "64af9306fe57f0cf4f00dd3a Elastic-Net Regressor (mixing alpha=0.5 / Least-Squares Loss)\n"
     ]
    }
   ],
   "source": [
    "models = project.get_models()\n",
    "for m in models:\n",
    "    print(m.id, m.model_type)"
   ]
  },
  {
   "cell_type": "code",
   "execution_count": 9,
   "id": "7edcabc0",
   "metadata": {
    "scrolled": true
   },
   "outputs": [
    {
     "name": "stdout",
     "output_type": "stream",
     "text": [
      "Model('RandomForest Regressor') RandomForest Regressor\n"
     ]
    }
   ],
   "source": [
    "recommendedModel = dr.ModelRecommendation.get(project.id).get_model()\n",
    "print(recommendedModel, recommendedModel.model_type)"
   ]
  },
  {
   "cell_type": "markdown",
   "id": "e7bb15f0",
   "metadata": {},
   "source": [
    "# Deploying the Model"
   ]
  },
  {
   "cell_type": "code",
   "execution_count": 11,
   "id": "87da08c8",
   "metadata": {},
   "outputs": [],
   "source": [
    "deployment = dr.Deployment.create_from_learning_model(\n",
    "    model_id = recommendedModel.id,\n",
    "    label = 'Wine Quality',\n",
    "    description = 'Model for scoring wine quality'\n",
    ")"
   ]
  },
  {
   "cell_type": "markdown",
   "id": "68e33ebf",
   "metadata": {},
   "source": [
    "# Predictions"
   ]
  },
  {
   "cell_type": "code",
   "execution_count": 12,
   "id": "638b2ef9",
   "metadata": {},
   "outputs": [],
   "source": [
    "job = dr.BatchPredictionJob.score (\n",
    "    deployment=deployment.id,\n",
    "    passthrough_columns=['wine_id'],\n",
    "    intake_settings={\n",
    "        'type': 'localFile',\n",
    "        'file': './winequality-white-score.csv'\n",
    "    },\n",
    "    output_settings={\n",
    "        'type': 'localFile',\n",
    "        'path': './winequality-white-predictions.csv'\n",
    "    }\n",
    ")"
   ]
  },
  {
   "cell_type": "code",
   "execution_count": 31,
   "id": "d9059607",
   "metadata": {},
   "outputs": [
    {
     "name": "stdout",
     "output_type": "stream",
     "text": [
      "quality_PREDICTION,DEPLOYMENT_APPROVAL_STATUS,wine_id\n",
      "6.2146047619,APPROVED,100\n",
      "6.5579769841,APPROVED,101\n",
      "5.6517484127,APPROVED,102\n",
      "6.4505222222,APPROVED,103\n",
      "5.8184150794,APPROVED,104\n",
      "5.6443966089,APPROVED,105\n",
      "6.5156111111,APPROVED,106\n",
      "4.8477015873,APPROVED,107\n",
      "4.6883087302,APPROVED,108\n",
      "5.345681746,APPROVED,109\n"
     ]
    }
   ],
   "source": [
    "!type winequality-white-predictions.csv"
   ]
  },
  {
   "cell_type": "code",
   "execution_count": null,
   "id": "44316959",
   "metadata": {},
   "outputs": [],
   "source": []
  }
 ],
 "metadata": {
  "kernelspec": {
   "display_name": "Python 3 (ipykernel)",
   "language": "python",
   "name": "python3"
  },
  "language_info": {
   "codemirror_mode": {
    "name": "ipython",
    "version": 3
   },
   "file_extension": ".py",
   "mimetype": "text/x-python",
   "name": "python",
   "nbconvert_exporter": "python",
   "pygments_lexer": "ipython3",
   "version": "3.11.3"
  }
 },
 "nbformat": 4,
 "nbformat_minor": 5
}
